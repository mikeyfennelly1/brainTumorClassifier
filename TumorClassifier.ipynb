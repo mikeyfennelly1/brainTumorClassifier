{
 "cells": [
  {
   "cell_type": "markdown",
   "id": "e5ebde76",
   "metadata": {},
   "source": [
    "## Import Dependencies"
   ]
  },
  {
   "cell_type": "code",
   "execution_count": 1,
   "id": "7c7492bd",
   "metadata": {},
   "outputs": [
    {
     "name": "stderr",
     "output_type": "stream",
     "text": [
      "2024-03-09 15:31:04.596712: I tensorflow/core/util/port.cc:113] oneDNN custom operations are on. You may see slightly different numerical results due to floating-point round-off errors from different computation orders. To turn them off, set the environment variable `TF_ENABLE_ONEDNN_OPTS=0`.\n",
      "2024-03-09 15:31:04.628729: I external/local_tsl/tsl/cuda/cudart_stub.cc:31] Could not find cuda drivers on your machine, GPU will not be used.\n",
      "2024-03-09 15:31:04.771892: E external/local_xla/xla/stream_executor/cuda/cuda_dnn.cc:9261] Unable to register cuDNN factory: Attempting to register factory for plugin cuDNN when one has already been registered\n",
      "2024-03-09 15:31:04.772061: E external/local_xla/xla/stream_executor/cuda/cuda_fft.cc:607] Unable to register cuFFT factory: Attempting to register factory for plugin cuFFT when one has already been registered\n",
      "2024-03-09 15:31:04.801283: E external/local_xla/xla/stream_executor/cuda/cuda_blas.cc:1515] Unable to register cuBLAS factory: Attempting to register factory for plugin cuBLAS when one has already been registered\n",
      "2024-03-09 15:31:04.870619: I external/local_tsl/tsl/cuda/cudart_stub.cc:31] Could not find cuda drivers on your machine, GPU will not be used.\n",
      "2024-03-09 15:31:04.872460: I tensorflow/core/platform/cpu_feature_guard.cc:182] This TensorFlow binary is optimized to use available CPU instructions in performance-critical operations.\n",
      "To enable the following instructions: AVX2 AVX_VNNI FMA, in other operations, rebuild TensorFlow with the appropriate compiler flags.\n",
      "2024-03-09 15:31:05.700379: W tensorflow/compiler/tf2tensorrt/utils/py_utils.cc:38] TF-TRT Warning: Could not find TensorRT\n"
     ]
    }
   ],
   "source": [
    "import tensorflow as tf\n",
    "\n",
    "from tensorflow.keras import datasets, layers, models\n",
    "import matplotlib.pyplot as plt\n",
    "import pandas as pd"
   ]
  },
  {
   "cell_type": "markdown",
   "id": "0cf2c07b",
   "metadata": {},
   "source": [
    "## Import CSV Dataset"
   ]
  },
  {
   "cell_type": "code",
   "execution_count": 2,
   "id": "44487fc1",
   "metadata": {},
   "outputs": [],
   "source": [
    "dataset = pd.read_csv('./data/Brain Tumor.csv')"
   ]
  },
  {
   "cell_type": "code",
   "execution_count": 3,
   "id": "73fd8ee0",
   "metadata": {},
   "outputs": [],
   "source": [
    "classnames = ['Mean', 'Variance', 'Standard Deviation', 'Entropy', 'Skewness', 'Kurtosis', 'Contrast', 'Energy', 'ASM', 'Homogeneity', 'Dissimilarity', 'Correlation', 'Coarsness', 'PSNR', 'SSIM', 'MSE', 'DC']"
   ]
  },
  {
   "cell_type": "code",
   "execution_count": 5,
   "id": "e5983f7b",
   "metadata": {},
   "outputs": [
    {
     "data": {
      "text/plain": [
       "0       0\n",
       "1       0\n",
       "2       1\n",
       "3       1\n",
       "4       0\n",
       "       ..\n",
       "3757    0\n",
       "3758    0\n",
       "3759    0\n",
       "3760    0\n",
       "3761    0\n",
       "Name: Class, Length: 3762, dtype: int64"
      ]
     },
     "execution_count": 5,
     "metadata": {},
     "output_type": "execute_result"
    }
   ],
   "source": [
    "dataset.pop('Class')"
   ]
  },
  {
   "cell_type": "code",
   "execution_count": 6,
   "id": "dcb02f7b",
   "metadata": {
    "scrolled": true
   },
   "outputs": [
    {
     "data": {
      "text/html": [
       "<div>\n",
       "<style scoped>\n",
       "    .dataframe tbody tr th:only-of-type {\n",
       "        vertical-align: middle;\n",
       "    }\n",
       "\n",
       "    .dataframe tbody tr th {\n",
       "        vertical-align: top;\n",
       "    }\n",
       "\n",
       "    .dataframe thead th {\n",
       "        text-align: right;\n",
       "    }\n",
       "</style>\n",
       "<table border=\"1\" class=\"dataframe\">\n",
       "  <thead>\n",
       "    <tr style=\"text-align: right;\">\n",
       "      <th></th>\n",
       "      <th>Image</th>\n",
       "      <th>Mean</th>\n",
       "      <th>Variance</th>\n",
       "      <th>Standard Deviation</th>\n",
       "      <th>Entropy</th>\n",
       "      <th>Skewness</th>\n",
       "      <th>Kurtosis</th>\n",
       "      <th>Contrast</th>\n",
       "      <th>Energy</th>\n",
       "      <th>ASM</th>\n",
       "      <th>Homogeneity</th>\n",
       "      <th>Dissimilarity</th>\n",
       "      <th>Correlation</th>\n",
       "      <th>Coarseness</th>\n",
       "    </tr>\n",
       "  </thead>\n",
       "  <tbody>\n",
       "    <tr>\n",
       "      <th>0</th>\n",
       "      <td>Image1</td>\n",
       "      <td>6.535339</td>\n",
       "      <td>619.587845</td>\n",
       "      <td>24.891522</td>\n",
       "      <td>0.109059</td>\n",
       "      <td>4.276477</td>\n",
       "      <td>18.900575</td>\n",
       "      <td>98.613971</td>\n",
       "      <td>0.293314</td>\n",
       "      <td>0.086033</td>\n",
       "      <td>0.530941</td>\n",
       "      <td>4.473346</td>\n",
       "      <td>0.981939</td>\n",
       "      <td>7.458341e-155</td>\n",
       "    </tr>\n",
       "    <tr>\n",
       "      <th>1</th>\n",
       "      <td>Image2</td>\n",
       "      <td>8.749969</td>\n",
       "      <td>805.957634</td>\n",
       "      <td>28.389393</td>\n",
       "      <td>0.266538</td>\n",
       "      <td>3.718116</td>\n",
       "      <td>14.464618</td>\n",
       "      <td>63.858816</td>\n",
       "      <td>0.475051</td>\n",
       "      <td>0.225674</td>\n",
       "      <td>0.651352</td>\n",
       "      <td>3.220072</td>\n",
       "      <td>0.988834</td>\n",
       "      <td>7.458341e-155</td>\n",
       "    </tr>\n",
       "    <tr>\n",
       "      <th>2</th>\n",
       "      <td>Image3</td>\n",
       "      <td>7.341095</td>\n",
       "      <td>1143.808219</td>\n",
       "      <td>33.820234</td>\n",
       "      <td>0.001467</td>\n",
       "      <td>5.061750</td>\n",
       "      <td>26.479563</td>\n",
       "      <td>81.867206</td>\n",
       "      <td>0.031917</td>\n",
       "      <td>0.001019</td>\n",
       "      <td>0.268275</td>\n",
       "      <td>5.981800</td>\n",
       "      <td>0.978014</td>\n",
       "      <td>7.458341e-155</td>\n",
       "    </tr>\n",
       "    <tr>\n",
       "      <th>3</th>\n",
       "      <td>Image4</td>\n",
       "      <td>5.958145</td>\n",
       "      <td>959.711985</td>\n",
       "      <td>30.979219</td>\n",
       "      <td>0.001477</td>\n",
       "      <td>5.677977</td>\n",
       "      <td>33.428845</td>\n",
       "      <td>151.229741</td>\n",
       "      <td>0.032024</td>\n",
       "      <td>0.001026</td>\n",
       "      <td>0.243851</td>\n",
       "      <td>7.700919</td>\n",
       "      <td>0.964189</td>\n",
       "      <td>7.458341e-155</td>\n",
       "    </tr>\n",
       "    <tr>\n",
       "      <th>4</th>\n",
       "      <td>Image5</td>\n",
       "      <td>7.315231</td>\n",
       "      <td>729.540579</td>\n",
       "      <td>27.010009</td>\n",
       "      <td>0.146761</td>\n",
       "      <td>4.283221</td>\n",
       "      <td>19.079108</td>\n",
       "      <td>174.988756</td>\n",
       "      <td>0.343849</td>\n",
       "      <td>0.118232</td>\n",
       "      <td>0.501140</td>\n",
       "      <td>6.834689</td>\n",
       "      <td>0.972789</td>\n",
       "      <td>7.458341e-155</td>\n",
       "    </tr>\n",
       "  </tbody>\n",
       "</table>\n",
       "</div>"
      ],
      "text/plain": [
       "    Image      Mean     Variance  Standard Deviation   Entropy  Skewness  \\\n",
       "0  Image1  6.535339   619.587845           24.891522  0.109059  4.276477   \n",
       "1  Image2  8.749969   805.957634           28.389393  0.266538  3.718116   \n",
       "2  Image3  7.341095  1143.808219           33.820234  0.001467  5.061750   \n",
       "3  Image4  5.958145   959.711985           30.979219  0.001477  5.677977   \n",
       "4  Image5  7.315231   729.540579           27.010009  0.146761  4.283221   \n",
       "\n",
       "    Kurtosis    Contrast    Energy       ASM  Homogeneity  Dissimilarity  \\\n",
       "0  18.900575   98.613971  0.293314  0.086033     0.530941       4.473346   \n",
       "1  14.464618   63.858816  0.475051  0.225674     0.651352       3.220072   \n",
       "2  26.479563   81.867206  0.031917  0.001019     0.268275       5.981800   \n",
       "3  33.428845  151.229741  0.032024  0.001026     0.243851       7.700919   \n",
       "4  19.079108  174.988756  0.343849  0.118232     0.501140       6.834689   \n",
       "\n",
       "   Correlation     Coarseness  \n",
       "0     0.981939  7.458341e-155  \n",
       "1     0.988834  7.458341e-155  \n",
       "2     0.978014  7.458341e-155  \n",
       "3     0.964189  7.458341e-155  \n",
       "4     0.972789  7.458341e-155  "
      ]
     },
     "execution_count": 6,
     "metadata": {},
     "output_type": "execute_result"
    }
   ],
   "source": [
    "dataset.head()"
   ]
  },
  {
   "cell_type": "code",
   "execution_count": null,
   "id": "96bf3bbf",
   "metadata": {},
   "outputs": [],
   "source": []
  }
 ],
 "metadata": {
  "kernelspec": {
   "display_name": "Python 3 (ipykernel)",
   "language": "python",
   "name": "python3"
  },
  "language_info": {
   "codemirror_mode": {
    "name": "ipython",
    "version": 3
   },
   "file_extension": ".py",
   "mimetype": "text/x-python",
   "name": "python",
   "nbconvert_exporter": "python",
   "pygments_lexer": "ipython3",
   "version": "3.11.5"
  }
 },
 "nbformat": 4,
 "nbformat_minor": 5
}
